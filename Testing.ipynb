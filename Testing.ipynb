{
  "cells": [
    {
      "cell_type": "markdown",
      "metadata": {
        "id": "view-in-github",
        "colab_type": "text"
      },
      "source": [
        "<a href=\"https://colab.research.google.com/github/EvanNT18/BE_Content/blob/main/Testing.ipynb\" target=\"_parent\"><img src=\"https://colab.research.google.com/assets/colab-badge.svg\" alt=\"Open In Colab\"/></a>"
      ]
    },
    {
      "cell_type": "markdown",
      "source": [
        "# Install Dependencies"
      ],
      "metadata": {
        "id": "7xtnw4Ys02UG"
      }
    },
    {
      "cell_type": "code",
      "source": [
        "!pip install pytube\n",
        "!pip install openai-whisper\n",
        "!pip install ffmpeg-python\n",
        "!pip install --upgrade pytube\n",
        "!pip install yt_dlp\n",
        "\n",
        "import os\n",
        "from pytube import YouTube\n",
        "import whisper\n",
        "from pathlib import Path\n",
        "import yt_dlp\n",
        "import textwrap"
      ],
      "metadata": {
        "colab": {
          "base_uri": "https://localhost:8080/"
        },
        "id": "50BX1Yb9z6jd",
        "outputId": "1e91a88a-e81c-4fcf-a7b3-780888ed49d6"
      },
      "execution_count": 15,
      "outputs": [
        {
          "output_type": "stream",
          "name": "stdout",
          "text": [
            "Requirement already satisfied: pytube in /usr/local/lib/python3.11/dist-packages (15.0.0)\n",
            "Requirement already satisfied: openai-whisper in /usr/local/lib/python3.11/dist-packages (20240930)\n",
            "Requirement already satisfied: numba in /usr/local/lib/python3.11/dist-packages (from openai-whisper) (0.60.0)\n",
            "Requirement already satisfied: numpy in /usr/local/lib/python3.11/dist-packages (from openai-whisper) (2.0.2)\n",
            "Requirement already satisfied: torch in /usr/local/lib/python3.11/dist-packages (from openai-whisper) (2.6.0+cu124)\n",
            "Requirement already satisfied: tqdm in /usr/local/lib/python3.11/dist-packages (from openai-whisper) (4.67.1)\n",
            "Requirement already satisfied: more-itertools in /usr/local/lib/python3.11/dist-packages (from openai-whisper) (10.6.0)\n",
            "Requirement already satisfied: tiktoken in /usr/local/lib/python3.11/dist-packages (from openai-whisper) (0.9.0)\n",
            "Requirement already satisfied: triton>=2.0.0 in /usr/local/lib/python3.11/dist-packages (from openai-whisper) (3.2.0)\n",
            "Requirement already satisfied: llvmlite<0.44,>=0.43.0dev0 in /usr/local/lib/python3.11/dist-packages (from numba->openai-whisper) (0.43.0)\n",
            "Requirement already satisfied: regex>=2022.1.18 in /usr/local/lib/python3.11/dist-packages (from tiktoken->openai-whisper) (2024.11.6)\n",
            "Requirement already satisfied: requests>=2.26.0 in /usr/local/lib/python3.11/dist-packages (from tiktoken->openai-whisper) (2.32.3)\n",
            "Requirement already satisfied: filelock in /usr/local/lib/python3.11/dist-packages (from torch->openai-whisper) (3.18.0)\n",
            "Requirement already satisfied: typing-extensions>=4.10.0 in /usr/local/lib/python3.11/dist-packages (from torch->openai-whisper) (4.13.1)\n",
            "Requirement already satisfied: networkx in /usr/local/lib/python3.11/dist-packages (from torch->openai-whisper) (3.4.2)\n",
            "Requirement already satisfied: jinja2 in /usr/local/lib/python3.11/dist-packages (from torch->openai-whisper) (3.1.6)\n",
            "Requirement already satisfied: fsspec in /usr/local/lib/python3.11/dist-packages (from torch->openai-whisper) (2025.3.2)\n",
            "Requirement already satisfied: nvidia-cuda-nvrtc-cu12==12.4.127 in /usr/local/lib/python3.11/dist-packages (from torch->openai-whisper) (12.4.127)\n",
            "Requirement already satisfied: nvidia-cuda-runtime-cu12==12.4.127 in /usr/local/lib/python3.11/dist-packages (from torch->openai-whisper) (12.4.127)\n",
            "Requirement already satisfied: nvidia-cuda-cupti-cu12==12.4.127 in /usr/local/lib/python3.11/dist-packages (from torch->openai-whisper) (12.4.127)\n",
            "Requirement already satisfied: nvidia-cudnn-cu12==9.1.0.70 in /usr/local/lib/python3.11/dist-packages (from torch->openai-whisper) (9.1.0.70)\n",
            "Requirement already satisfied: nvidia-cublas-cu12==12.4.5.8 in /usr/local/lib/python3.11/dist-packages (from torch->openai-whisper) (12.4.5.8)\n",
            "Requirement already satisfied: nvidia-cufft-cu12==11.2.1.3 in /usr/local/lib/python3.11/dist-packages (from torch->openai-whisper) (11.2.1.3)\n",
            "Requirement already satisfied: nvidia-curand-cu12==10.3.5.147 in /usr/local/lib/python3.11/dist-packages (from torch->openai-whisper) (10.3.5.147)\n",
            "Requirement already satisfied: nvidia-cusolver-cu12==11.6.1.9 in /usr/local/lib/python3.11/dist-packages (from torch->openai-whisper) (11.6.1.9)\n",
            "Requirement already satisfied: nvidia-cusparse-cu12==12.3.1.170 in /usr/local/lib/python3.11/dist-packages (from torch->openai-whisper) (12.3.1.170)\n",
            "Requirement already satisfied: nvidia-cusparselt-cu12==0.6.2 in /usr/local/lib/python3.11/dist-packages (from torch->openai-whisper) (0.6.2)\n",
            "Requirement already satisfied: nvidia-nccl-cu12==2.21.5 in /usr/local/lib/python3.11/dist-packages (from torch->openai-whisper) (2.21.5)\n",
            "Requirement already satisfied: nvidia-nvtx-cu12==12.4.127 in /usr/local/lib/python3.11/dist-packages (from torch->openai-whisper) (12.4.127)\n",
            "Requirement already satisfied: nvidia-nvjitlink-cu12==12.4.127 in /usr/local/lib/python3.11/dist-packages (from torch->openai-whisper) (12.4.127)\n",
            "Requirement already satisfied: sympy==1.13.1 in /usr/local/lib/python3.11/dist-packages (from torch->openai-whisper) (1.13.1)\n",
            "Requirement already satisfied: mpmath<1.4,>=1.1.0 in /usr/local/lib/python3.11/dist-packages (from sympy==1.13.1->torch->openai-whisper) (1.3.0)\n",
            "Requirement already satisfied: charset-normalizer<4,>=2 in /usr/local/lib/python3.11/dist-packages (from requests>=2.26.0->tiktoken->openai-whisper) (3.4.1)\n",
            "Requirement already satisfied: idna<4,>=2.5 in /usr/local/lib/python3.11/dist-packages (from requests>=2.26.0->tiktoken->openai-whisper) (3.10)\n",
            "Requirement already satisfied: urllib3<3,>=1.21.1 in /usr/local/lib/python3.11/dist-packages (from requests>=2.26.0->tiktoken->openai-whisper) (2.3.0)\n",
            "Requirement already satisfied: certifi>=2017.4.17 in /usr/local/lib/python3.11/dist-packages (from requests>=2.26.0->tiktoken->openai-whisper) (2025.1.31)\n",
            "Requirement already satisfied: MarkupSafe>=2.0 in /usr/local/lib/python3.11/dist-packages (from jinja2->torch->openai-whisper) (3.0.2)\n",
            "Requirement already satisfied: ffmpeg-python in /usr/local/lib/python3.11/dist-packages (0.2.0)\n",
            "Requirement already satisfied: future in /usr/local/lib/python3.11/dist-packages (from ffmpeg-python) (1.0.0)\n",
            "Requirement already satisfied: pytube in /usr/local/lib/python3.11/dist-packages (15.0.0)\n",
            "Requirement already satisfied: yt_dlp in /usr/local/lib/python3.11/dist-packages (2025.3.31)\n"
          ]
        }
      ]
    },
    {
      "cell_type": "markdown",
      "source": [
        "# Downloading Audio\n",
        "\n"
      ],
      "metadata": {
        "id": "dAFSsChH0wll"
      }
    },
    {
      "cell_type": "code",
      "source": [
        "def download_youtube_audio_yt_dlp(url, output_path=\"audio.mp3\"):\n",
        "    ydl_opts = {\n",
        "        'format': 'bestaudio/best',\n",
        "        'outtmpl': output_path.replace(\".mp3\", \"\"),\n",
        "        'postprocessors': [{\n",
        "            'key': 'FFmpegExtractAudio',\n",
        "            'preferredcodec': 'mp3',\n",
        "            'preferredquality': '192',\n",
        "        }],\n",
        "    }\n",
        "\n",
        "    try:\n",
        "        with yt_dlp.YoutubeDL(ydl_opts) as ydl:\n",
        "            ydl.download([url])\n",
        "        final_name = output_path\n",
        "        return final_name\n",
        "    except Exception as e:\n",
        "        print(\"Gagal download:\", e)\n",
        "        return None\n"
      ],
      "metadata": {
        "id": "UF9DoF-LuvxZ"
      },
      "execution_count": 10,
      "outputs": []
    },
    {
      "cell_type": "markdown",
      "source": [
        "# Transkrip dan Meringkas"
      ],
      "metadata": {
        "id": "tTeE6V6_0-lQ"
      }
    },
    {
      "cell_type": "code",
      "source": [
        "def transcribe_audio(audio_path):\n",
        "    model = whisper.load_model(\"tiny\")\n",
        "    result = model.transcribe(audio_path)\n",
        "    return result[\"text\"]\n",
        "\n",
        "\n",
        "def format_transcript(text, width=100):\n",
        "    sentences = text.split('. ')\n",
        "    grouped = ['. '.join(sentences[i:i+3]) for i in range(0, len(sentences), 3)]\n",
        "    return '\\n\\n'.join([textwrap.fill(par, width=width) for par in grouped])\n"
      ],
      "metadata": {
        "id": "2gr8wLX11DNv"
      },
      "execution_count": 17,
      "outputs": []
    },
    {
      "cell_type": "markdown",
      "source": [
        "# Input dan DataProcess"
      ],
      "metadata": {
        "id": "hE0VMalk1Ilo"
      }
    },
    {
      "cell_type": "code",
      "source": [
        "youtube_url = \"https://youtu.be/rEdl2Uetpvo?si=TwiHtzTHbcBtU51v\"\n",
        "audio_file = download_youtube_audio_yt_dlp(youtube_url)\n",
        "print(\"File ada?\" , os.path.exists(\"audio.mp3\"))\n",
        "if audio_file:\n",
        "    transcript = transcribe_audio(audio_file)\n",
        "    print(\"=== Transkrip Video ===\")\n",
        "    print(transcript)\n",
        "else:\n",
        "    print(\"Gagal mengunduh audio.\")\n"
      ],
      "metadata": {
        "id": "B4Q8Qall1Llg",
        "outputId": "946494ff-522d-4dbf-f178-060dd821aaec",
        "colab": {
          "base_uri": "https://localhost:8080/"
        }
      },
      "execution_count": 18,
      "outputs": [
        {
          "output_type": "stream",
          "name": "stdout",
          "text": [
            "[youtube] Extracting URL: https://youtu.be/rEdl2Uetpvo?si=TwiHtzTHbcBtU51v\n",
            "[youtube] rEdl2Uetpvo: Downloading webpage\n",
            "[youtube] rEdl2Uetpvo: Downloading tv client config\n",
            "[youtube] rEdl2Uetpvo: Downloading player 73381ccc-main\n",
            "[youtube] rEdl2Uetpvo: Downloading tv player API JSON\n",
            "[youtube] rEdl2Uetpvo: Downloading ios player API JSON\n",
            "[youtube] rEdl2Uetpvo: Downloading m3u8 information\n",
            "[info] rEdl2Uetpvo: Downloading 1 format(s): 251\n",
            "[download] Destination: audio\n",
            "[download] 100% of    5.55MiB in 00:00:00 at 17.87MiB/s  \n",
            "[ExtractAudio] Destination: audio.mp3\n",
            "Deleting original file audio (pass -k to keep)\n",
            "File ada? True\n"
          ]
        },
        {
          "output_type": "stream",
          "name": "stderr",
          "text": [
            "/usr/local/lib/python3.11/dist-packages/whisper/transcribe.py:126: UserWarning: FP16 is not supported on CPU; using FP32 instead\n",
            "  warnings.warn(\"FP16 is not supported on CPU; using FP32 instead\")\n"
          ]
        },
        {
          "output_type": "stream",
          "name": "stdout",
          "text": [
            "=== Transkrip Video ===\n",
            " Let's be honest, chocolate chip cookies are always good, but when you have a really, really good one, it's life-changing. We pretty much bought all the chocolate chips in the York City. We baked, we tested, we ate, and now we have the ultimate chocolate chip recipe for you. We're gonna ball out with a few extra flavors, but really all you need for cookies are sugar, flour, fat, eggs, and chocolate. And on our quest to find the best, we had to test out what all of these ingredients do to a cookie, and how we can use their best properties to come up with the ultimate recipe. Let's talk sugar. So we've got white sugar, light brown sugar, and dark brown sugar. Really the only difference is the addition of the glasses. Light brown sugar has a bit of molasses, and dark brown has a bit more molasses in it. For this test, we wanted to see what just using one sugar in each dough would do to a cookie. With all white sugar, spread the most, didn't have a ton of flavor. Light brown sugar was a little bit chewier, spread a little bit less, and the dark brown sugar was really overpowering in its flavor, and spread the least. And visually, you can see a big difference too. And what we found was you really can't get that classic flavor, just using one. Next thing we had to tackle is flour. So we've got all purpose, bread flour, and cake flour. Really the only difference here is the amount of protein in there for gluten in these flowers. Just think about it like this. Bread's really nice and chewy. It has a great texture, a great structure, having that gluten and protein. Whereas cake, you think of it as tender, it's light, it's airy, it's going to have less of those things. What it really comes down to is taste and texture. All purpose gave you, you know, standard cookie. The bread flour led to a significantly chewy or cookie. The cake flour was the one that really spread the most. It was pretty delicate. And then similar to sugar, we decided that in order to get the best result, you got to use a combination of two. So on to fat. We wanted to see the difference between softened butter and melted butter. And then we wanted to see what would happen if we switched it out completely and used coconut oil. Between softened butter and melted butter, visually they look pretty similar. The melted butter spread a little bit more. And then taste we didn't notice a huge difference either. Tested with coconut oil and it worked. It was a cookie. But it lost like that great oomph, you know, that butter brings to all baked goods. And so in the end we definitely prefer using butter. Eggs we went pretty simple with this one. Just an egg and an egg yolk. Contributes to more like a fudgeier richer cookie. Obviously we're making chocolate chip cookies. We have to have chocolate chips. But we're also going to add a little bit something extra with some chunks of dark chocolate. Cut it with a serrated knife and a little chunks and add that to your dough. It's really nice because you have like a variance of flavors and textures throughout. It's really just a few fundamental ingredients and learning how to master their properties in order to get the best result of your after. And finally after all that testing we came up with our ultimate recipe. Here we go. So we're going to start by sifting out the flour. We're going to do all purpose and bread flour, salt and baking soda as well. We really like the two factor of the bread flour with a combination of all purpose to kind of give us best of both worlds. And then we're going to move on to the butter. So we're going to do melted butter but we're going to take it one step further and brown it. All you need to do to make brown butter is throw it all in the saucepan and get it to a boil. After a few minutes of boiling the milk solids in the butter are going to start to toast and turn a really gorgeous brown nutty color. Keep stirring it to make sure that the butter is browning evenly and once you can see the really dark brown bits on the bottom you're going to pour it off ideally into a liquid measuring cup. This is going to do two things. One it's going to quickly cool down the butter so it stops the cooking. You don't want to burn it and then also we want to make sure that we have a cup of liquid when it's all set and done. So while making the brown butter you do wind up boiling off a good amount of liquid. So we're just going to top it up with a bit of water until we reach one cup. So let it chill out for a bit, come to room temperature before you proceed. So we found that we really need a combination of white and dark brown sugar to get that really great flavor that we were after. So add the vanilla at this point and the espresso powder. The espresso powder is one of those little flavor boosters again all about those contrasting notes that really work while with anything really sweet. And then you're going to add in that liquid gold. Oh my gosh so nice and cream those together. This is another reason why we want the butter to be a little bit on the cooler side and corporates really really nicely with the sugar. When we were testing if you add the brown butter when it's too hot it can make the dough a little bit greasy. Then in go the egg and the egg yolk. Oh and the smell that comes off this thing. Oh my god it's pretty much like the best smell you can get from cooking. And then go the flour. We like to do it in about thirds or so just so they don't have flour going all over your kitchen. And just beat it until you don't see a ton of extra flour. It doesn't need to be totally incorporated. A little bit of flour that's not incorporated is actually good. You'll finish incorporating the rest of the flour when you fold in the chocolate. The nice thing about using these chunks is that you get some small shards of chocolate that kind of get everywhere mixed with the chopped up chocolate chunks and it's just kind of like so good. And that's it. That's your dough. Try not to eat it all when it's raw. Alright so if you're an A plus student you can go ahead and put these in the fridge to chill overnight that you'll get the best flavor that way. But if you have no software straightened like me you can bake them off right now. The nice thing about this dough is that it's so much flavor that we've built into it that they're still going to be really really good if you bake them right away. If you are going to be amazing and put them in the fridge overnight we do recommend scooping them first and putting them on a baking sheet then putting them in the fridge. It's just so much easier than trying to scoop a really hard dough from the fridge. Cookies are kind of the equalizer of all baked good. You know there's so much fancy stuff out there but honestly is there anything better than a perfect chocolate chip cookie? Just look at that. You've got these pockets of chocolate if I'm using those big chocolate chunks. It's got all the cracks and crinkles that you want in a chocolate chip cookie. The center is ooey gooey. The outside is crunchy. It's just got kind of like all the flavor in texture that you can possibly pack into one little cookie and you'll never go back to another recipe again. There's a list of like top five smells in the culinary world and I'm pretty sure butter comes up number one all the time. This is just a list I made up but... It's a top it's a top culinary list. Ask anyone. Oh my god brown butter. Ah so good.\n"
          ]
        }
      ]
    },
    {
      "cell_type": "code",
      "source": [],
      "metadata": {
        "id": "pdswS7z33rCO"
      },
      "execution_count": null,
      "outputs": []
    }
  ],
  "metadata": {
    "colab": {
      "name": "Selamat Datang di Colab",
      "toc_visible": true,
      "provenance": [],
      "include_colab_link": true
    },
    "kernelspec": {
      "display_name": "Python 3",
      "name": "python3"
    }
  },
  "nbformat": 4,
  "nbformat_minor": 0
}